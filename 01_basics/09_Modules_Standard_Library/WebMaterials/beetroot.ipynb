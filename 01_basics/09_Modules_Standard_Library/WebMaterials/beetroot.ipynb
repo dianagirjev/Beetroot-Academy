{
 "cells": [
  {
   "cell_type": "code",
   "execution_count": 9,
   "metadata": {},
   "outputs": [
    {
     "name": "stdout",
     "output_type": "stream",
     "text": [
      "[0, 1, 1, 2, 3, 5, 8, 13, 21, 34, 55]\n"
     ]
    }
   ],
   "source": [
    "# Fibonacci: 0, 1, 1, 2, 3, 5, 8, 13, ...\n",
    "def fib(n):\n",
    "    list_fib = [0, 1]\n",
    "    for i in range(1, n):\n",
    "        list_fib.append(list_fib[len(list_fib) - 1] + list_fib[len(list_fib) - 2])\n",
    "    print(list_fib)\n",
    "fib(10)"
   ]
  },
  {
   "cell_type": "code",
   "execution_count": 11,
   "metadata": {},
   "outputs": [
    {
     "name": "stdout",
     "output_type": "stream",
     "text": [
      "13\n"
     ]
    }
   ],
   "source": [
    "# Fibonacci: 0, 1, 1, 2, 3, 5, 8, 13, ...\n",
    "def fib(n):\n",
    "    a, b = 0, 1\n",
    "    for i in range(n):\n",
    "        a, b = b, a + b # they are simultanious not a problem\n",
    "    return a\n",
    "print(fib(int(input(\"What fib do you want?\"))))"
   ]
  }
 ],
 "metadata": {
  "kernelspec": {
   "display_name": "Python 3",
   "language": "python",
   "name": "python3"
  },
  "language_info": {
   "codemirror_mode": {
    "name": "ipython",
    "version": 3
   },
   "file_extension": ".py",
   "mimetype": "text/x-python",
   "name": "python",
   "nbconvert_exporter": "python",
   "pygments_lexer": "ipython3",
   "version": "3.11.4"
  },
  "orig_nbformat": 4
 },
 "nbformat": 4,
 "nbformat_minor": 2
}
