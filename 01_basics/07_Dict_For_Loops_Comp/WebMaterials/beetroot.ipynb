{
 "cells": [
  {
   "cell_type": "code",
   "execution_count": 2,
   "metadata": {},
   "outputs": [
    {
     "name": "stdout",
     "output_type": "stream",
     "text": [
      "{'hello': 'world'} {'hello': 'world'} {'hello': 'world'}\n"
     ]
    }
   ],
   "source": [
    "# Dictionaries - mutable, unordered collection - no index keys unique\n",
    "a_dict = {}\n",
    "b_dict = dict()\n",
    "c_dict = {}\n",
    "a_dict = {\"hello\": \"world\"}\n",
    "b_dict = dict([(\"hello\", \"world\")])\n",
    "c_dict = dict(hello=\"world\")\n",
    "print(a_dict, b_dict, c_dict)"
   ]
  },
  {
   "cell_type": "code",
   "execution_count": 3,
   "metadata": {},
   "outputs": [
    {
     "name": "stdout",
     "output_type": "stream",
     "text": [
      "world\n"
     ]
    }
   ],
   "source": [
    "print(a_dict[\"hello\"])"
   ]
  },
  {
   "cell_type": "code",
   "execution_count": 4,
   "metadata": {},
   "outputs": [
    {
     "name": "stdout",
     "output_type": "stream",
     "text": [
      "None\n"
     ]
    }
   ],
   "source": [
    "print(a_dict.get(\"hello1\")) # to avoid KeyError"
   ]
  },
  {
   "cell_type": "code",
   "execution_count": 5,
   "metadata": {},
   "outputs": [
    {
     "name": "stdout",
     "output_type": "stream",
     "text": [
      "{'hello': 'world', 'hello1': 'world1'}\n"
     ]
    }
   ],
   "source": [
    "a_dict[\"hello1\"] = \"world1\"\n",
    "print(a_dict)"
   ]
  },
  {
   "cell_type": "code",
   "execution_count": 6,
   "metadata": {},
   "outputs": [
    {
     "name": "stdout",
     "output_type": "stream",
     "text": [
      "{'hello': 'world', 'hello1': 'world1', 1: 2}\n"
     ]
    }
   ],
   "source": [
    "a_dict.update({1: 2})\n",
    "print(a_dict)"
   ]
  },
  {
   "cell_type": "code",
   "execution_count": 8,
   "metadata": {},
   "outputs": [
    {
     "name": "stdout",
     "output_type": "stream",
     "text": [
      "{'hello': 'world', 'hello1': 'world1'}\n"
     ]
    }
   ],
   "source": [
    "a_dict.pop(1)\n",
    "print(a_dict)"
   ]
  },
  {
   "cell_type": "code",
   "execution_count": 9,
   "metadata": {},
   "outputs": [
    {
     "name": "stdout",
     "output_type": "stream",
     "text": [
      "True\n"
     ]
    }
   ],
   "source": [
    "print(\"hello\" in a_dict)"
   ]
  },
  {
   "cell_type": "code",
   "execution_count": 10,
   "metadata": {},
   "outputs": [
    {
     "data": {
      "text/plain": [
       "2"
      ]
     },
     "execution_count": 10,
     "metadata": {},
     "output_type": "execute_result"
    }
   ],
   "source": [
    "len(a_dict)"
   ]
  },
  {
   "cell_type": "code",
   "execution_count": 11,
   "metadata": {},
   "outputs": [
    {
     "name": "stdout",
     "output_type": "stream",
     "text": [
      "hello world\n",
      "hello1 world1\n"
     ]
    }
   ],
   "source": [
    "for key in a_dict: # == a_dict.keys()\n",
    "    print(key, a_dict[key])"
   ]
  },
  {
   "cell_type": "code",
   "execution_count": 12,
   "metadata": {},
   "outputs": [
    {
     "name": "stdout",
     "output_type": "stream",
     "text": [
      "world\n",
      "world1\n"
     ]
    }
   ],
   "source": [
    "for value in a_dict.values():\n",
    "    print(value)"
   ]
  },
  {
   "cell_type": "code",
   "execution_count": 14,
   "metadata": {},
   "outputs": [
    {
     "name": "stdout",
     "output_type": "stream",
     "text": [
      "hello world\n",
      "hello1 world1\n"
     ]
    }
   ],
   "source": [
    "for key, value in a_dict.items():\n",
    "    print(key, value)"
   ]
  },
  {
   "cell_type": "code",
   "execution_count": 15,
   "metadata": {},
   "outputs": [
    {
     "name": "stdout",
     "output_type": "stream",
     "text": [
      "0 1\n",
      "1 2\n",
      "2 3\n",
      "3 4\n",
      "4 5\n",
      "5 6\n",
      "6 7\n"
     ]
    }
   ],
   "source": [
    "# for loops, for ... else\n",
    "a_list = list(range(1, 11))\n",
    "for index, item in enumerate(a_list):\n",
    "    if index == 7:\n",
    "        break\n",
    "    print(index, item)\n",
    "else:\n",
    "    print(\"There was no break at all\")"
   ]
  },
  {
   "cell_type": "code",
   "execution_count": 16,
   "metadata": {},
   "outputs": [
    {
     "name": "stdout",
     "output_type": "stream",
     "text": [
      "0 1\n",
      "1 2\n",
      "2 3\n",
      "3 4\n",
      "4 5\n",
      "5 6\n",
      "6 7\n",
      "8 9\n",
      "9 10\n",
      "There was no break at all\n"
     ]
    }
   ],
   "source": [
    "# for loops, for ... else\n",
    "a_list = list(range(1, 11))\n",
    "for index, item in enumerate(a_list):\n",
    "    if index == 7:\n",
    "        continue\n",
    "    print(index, item)\n",
    "else:\n",
    "    print(\"There was no break at all\")"
   ]
  },
  {
   "cell_type": "code",
   "execution_count": null,
   "metadata": {},
   "outputs": [],
   "source": [
    "import random\n",
    "\n",
    "points = 0\n",
    "while True:\n",
    "    print(points)\n",
    "    x = random.randint(0, 10)\n",
    "    y = random.randint(0, 10)\n",
    "    answer = input(f\"What is your answer: {x} + {y} = ? (If you want to quit press q)\")\n",
    "    if answer == 'q':\n",
    "        break\n",
    "    elif int(answer) == x + y:\n",
    "        print(\"Good job!\")\n",
    "        points += 1\n",
    "    else:\n",
    "        print(\"No points for you\")\n",
    "        continue"
   ]
  },
  {
   "cell_type": "code",
   "execution_count": 1,
   "metadata": {},
   "outputs": [
    {
     "name": "stdout",
     "output_type": "stream",
     "text": [
      "{1: 'a', 2: 'b', 3: 'c', 4: 'd'}\n"
     ]
    }
   ],
   "source": [
    "dict_v = {1: 'a', 2: 'b'}\n",
    "dict_v[3] = 'c'\n",
    "dict_v.update({4: 'd'})\n",
    "print(dict_v)"
   ]
  },
  {
   "cell_type": "code",
   "execution_count": 3,
   "metadata": {},
   "outputs": [
    {
     "name": "stdout",
     "output_type": "stream",
     "text": [
      "{2: 'b', 3: 'c', 4: 'd'}\n"
     ]
    }
   ],
   "source": [
    "del dict_v[1]\n",
    "print(dict_v)"
   ]
  },
  {
   "cell_type": "code",
   "execution_count": 5,
   "metadata": {},
   "outputs": [
    {
     "name": "stdout",
     "output_type": "stream",
     "text": [
      "[0, 7, 14, 21, 28, 35, 42, 49, 56, 63, 70]\n"
     ]
    }
   ],
   "source": [
    "sevens = [item for item in range(0, 71, 7)]\n",
    "print(sevens)"
   ]
  }
 ],
 "metadata": {
  "kernelspec": {
   "display_name": "Python 3",
   "language": "python",
   "name": "python3"
  },
  "language_info": {
   "codemirror_mode": {
    "name": "ipython",
    "version": 3
   },
   "file_extension": ".py",
   "mimetype": "text/x-python",
   "name": "python",
   "nbconvert_exporter": "python",
   "pygments_lexer": "ipython3",
   "version": "3.11.4"
  },
  "orig_nbformat": 4
 },
 "nbformat": 4,
 "nbformat_minor": 2
}
