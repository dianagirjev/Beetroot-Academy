{
 "cells": [
  {
   "cell_type": "code",
   "execution_count": 1,
   "metadata": {},
   "outputs": [],
   "source": [
    "# Functions\n",
    "def sum(a, b):\n",
    "    return a + b"
   ]
  },
  {
   "cell_type": "code",
   "execution_count": 2,
   "metadata": {},
   "outputs": [
    {
     "name": "stdout",
     "output_type": "stream",
     "text": [
      "5\n"
     ]
    }
   ],
   "source": [
    "print(sum(2, 3))"
   ]
  },
  {
   "cell_type": "code",
   "execution_count": 3,
   "metadata": {},
   "outputs": [
    {
     "name": "stdout",
     "output_type": "stream",
     "text": [
      "9\n"
     ]
    }
   ],
   "source": [
    "print(sum(b=6, a=3))"
   ]
  },
  {
   "cell_type": "code",
   "execution_count": 4,
   "metadata": {},
   "outputs": [
    {
     "name": "stdout",
     "output_type": "stream",
     "text": [
      "2\n",
      "4\n"
     ]
    }
   ],
   "source": [
    "def exp(x, pow=1):\n",
    "    return x ** pow\n",
    "print(exp(2))\n",
    "print(exp(2, 2))"
   ]
  },
  {
   "cell_type": "code",
   "execution_count": 7,
   "metadata": {},
   "outputs": [
    {
     "name": "stdout",
     "output_type": "stream",
     "text": [
      "If there is no return than we have None\n",
      "If there is no return than we have None\n",
      "None <class 'NoneType'>\n"
     ]
    }
   ],
   "source": [
    "def no_return():\n",
    "    print(\"If there is no return than we have None\")\n",
    "print(no_return(), type(no_return()))"
   ]
  },
  {
   "cell_type": "code",
   "execution_count": 10,
   "metadata": {},
   "outputs": [
    {
     "name": "stdout",
     "output_type": "stream",
     "text": [
      "we got 4 arguments: (1, 2, 3, 'ana')\n"
     ]
    }
   ],
   "source": [
    "# ARGS(tuple) and KWARGS(dict)\n",
    "def custom(*args):\n",
    "    print(f\"we got {len(args)} arguments: {args}\")\n",
    "custom(1, 2, 3, 'ana')"
   ]
  },
  {
   "cell_type": "code",
   "execution_count": 11,
   "metadata": {},
   "outputs": [
    {
     "name": "stdout",
     "output_type": "stream",
     "text": [
      "Here we have 2 arguments: {'name': 'Ana', 'age': 24}\n"
     ]
    }
   ],
   "source": [
    "def custom(**kwargs):\n",
    "    print(f\"Here we have {len(kwargs)} arguments: {kwargs}\")\n",
    "custom(name=\"Ana\", age = 24)"
   ]
  },
  {
   "cell_type": "code",
   "execution_count": 12,
   "metadata": {},
   "outputs": [
    {
     "name": "stdout",
     "output_type": "stream",
     "text": [
      "In function x = 2\n",
      "Outside function x = 1\n"
     ]
    }
   ],
   "source": [
    "#Scope of function - imutable arg - by value, muttable arg - by reference\n",
    "x = 1\n",
    "def change(x):\n",
    "    x+=1\n",
    "    print(f\"In function x = {x}\")\n",
    "change(x)\n",
    "print(f\"Outside function x = {x}\")"
   ]
  },
  {
   "cell_type": "code",
   "execution_count": 16,
   "metadata": {},
   "outputs": [
    {
     "name": "stdout",
     "output_type": "stream",
     "text": [
      "In function x = 2\n",
      "Outside function x = 2\n"
     ]
    }
   ],
   "source": [
    "# better to avoid global use just return\n",
    "x = 1\n",
    "def change():\n",
    "    global x\n",
    "    x+=1\n",
    "    print(f\"In function x = {x}\")\n",
    "change()\n",
    "print(f\"Outside function x = {x}\")"
   ]
  },
  {
   "cell_type": "code",
   "execution_count": 17,
   "metadata": {},
   "outputs": [
    {
     "name": "stdout",
     "output_type": "stream",
     "text": [
      "[2, 2, 3]\n"
     ]
    }
   ],
   "source": [
    "l = [1, 2, 3]\n",
    "def change(l):\n",
    "    l[0] *= 2\n",
    "change(l)\n",
    "print(l)"
   ]
  },
  {
   "cell_type": "code",
   "execution_count": 18,
   "metadata": {},
   "outputs": [
    {
     "name": "stdout",
     "output_type": "stream",
     "text": [
      "[1, 2, 3]\n"
     ]
    }
   ],
   "source": [
    "l = [1, 2, 3]\n",
    "def change(l):\n",
    "    l= [2, 2, 3]\n",
    "change(l)\n",
    "print(l)"
   ]
  },
  {
   "cell_type": "code",
   "execution_count": 20,
   "metadata": {},
   "outputs": [
    {
     "name": "stdout",
     "output_type": "stream",
     "text": [
      "   *\n",
      "  ***\n",
      " *****\n"
     ]
    }
   ],
   "source": [
    "def draw(n):\n",
    "    for i in range(n):\n",
    "        print(\" \" * (3 - i) + \"*\" * (2 * i + 1))\n",
    "draw(3)"
   ]
  }
 ],
 "metadata": {
  "kernelspec": {
   "display_name": "Python 3",
   "language": "python",
   "name": "python3"
  },
  "language_info": {
   "codemirror_mode": {
    "name": "ipython",
    "version": 3
   },
   "file_extension": ".py",
   "mimetype": "text/x-python",
   "name": "python",
   "nbconvert_exporter": "python",
   "pygments_lexer": "ipython3",
   "version": "3.11.4"
  },
  "orig_nbformat": 4
 },
 "nbformat": 4,
 "nbformat_minor": 2
}
