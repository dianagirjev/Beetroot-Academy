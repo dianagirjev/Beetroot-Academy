{
 "cells": [
  {
   "cell_type": "code",
   "execution_count": 2,
   "metadata": {},
   "outputs": [
    {
     "name": "stdout",
     "output_type": "stream",
     "text": [
      "True <class 'bool'>\n",
      "False True\n"
     ]
    }
   ],
   "source": [
    "# Booleans\n",
    "print(True, type(True))\n",
    "print(not True, not False)"
   ]
  },
  {
   "cell_type": "code",
   "execution_count": 4,
   "metadata": {},
   "outputs": [
    {
     "name": "stdout",
     "output_type": "stream",
     "text": [
      "False\n",
      "True\n"
     ]
    }
   ],
   "source": [
    "# Boolean Priority High - not, and, or - Low\n",
    "print(not True or False and True)\n",
    "print(not True or True and True)"
   ]
  },
  {
   "cell_type": "code",
   "execution_count": 6,
   "metadata": {},
   "outputs": [
    {
     "name": "stdout",
     "output_type": "stream",
     "text": [
      "None <class 'NoneType'>\n",
      "False\n"
     ]
    }
   ],
   "source": [
    "# None datatype\n",
    "print(None, type(None))\n",
    "s = None\n",
    "print(s is not None)"
   ]
  },
  {
   "cell_type": "code",
   "execution_count": 7,
   "metadata": {},
   "outputs": [
    {
     "name": "stdout",
     "output_type": "stream",
     "text": [
      "True\n"
     ]
    }
   ],
   "source": [
    "print(1 < 2 < 4 < 10)"
   ]
  },
  {
   "cell_type": "code",
   "execution_count": 8,
   "metadata": {},
   "outputs": [
    {
     "name": "stdout",
     "output_type": "stream",
     "text": [
      "yes\n"
     ]
    }
   ],
   "source": [
    "# If / ELIF / ELSE\n",
    "var = \"yes\"\n",
    "if var == \"no\":\n",
    "    print(var)\n",
    "elif var == \"maybe\":\n",
    "    print(var)\n",
    "else:\n",
    "    print(var)\n",
    "\n"
   ]
  },
  {
   "cell_type": "code",
   "execution_count": 10,
   "metadata": {},
   "outputs": [
    {
     "name": "stdout",
     "output_type": "stream",
     "text": [
      "Hello\n",
      "Hello\n"
     ]
    }
   ],
   "source": [
    "# While\n",
    "i = 5\n",
    "while i < 10:\n",
    "    print(\"Hello\")\n",
    "    i += 1\n",
    "    if i % 7 == 0:\n",
    "        break\n",
    "else:\n",
    "    print(f\"Executia a avut loc pentru valoarea {i}\")"
   ]
  },
  {
   "cell_type": "code",
   "execution_count": 3,
   "metadata": {},
   "outputs": [
    {
     "name": "stdout",
     "output_type": "stream",
     "text": [
      "Hello\n",
      "Hello\n",
      "Hello\n",
      "Hello\n",
      "Hello\n",
      "Hello\n",
      "Executia a avut loc pentru valoarea 6\n"
     ]
    }
   ],
   "source": [
    "# While\n",
    "i = 0\n",
    "while i < 6:\n",
    "    print(\"Hello\")\n",
    "    i += 1\n",
    "    if i % 7 == 0:\n",
    "        break\n",
    "else:\n",
    "    print(f\"Executia a avut loc pentru valoarea {i}\")"
   ]
  }
 ],
 "metadata": {
  "kernelspec": {
   "display_name": "Python 3",
   "language": "python",
   "name": "python3"
  },
  "language_info": {
   "codemirror_mode": {
    "name": "ipython",
    "version": 3
   },
   "file_extension": ".py",
   "mimetype": "text/x-python",
   "name": "python",
   "nbconvert_exporter": "python",
   "pygments_lexer": "ipython3",
   "version": "3.11.3"
  },
  "orig_nbformat": 4
 },
 "nbformat": 4,
 "nbformat_minor": 2
}
